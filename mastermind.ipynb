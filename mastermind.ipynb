{
 "cells": [
  {
   "cell_type": "code",
   "execution_count": 9,
   "metadata": {
    "id": "i0RWh2mvoXFN"
   },
   "outputs": [
    {
     "name": "stdout",
     "output_type": "stream",
     "text": [
      "Here is your list of colors you may choose: YELLOW, BLUE, RED, GREEN, WHITE, BLACK\n",
      "Choose your 4 colors from the list be careful with duplicates ❤️ :········\n",
      "Make a guess:yellow blue red green\n",
      "Congratulations 🎉🎉🎉🎉🎉\n",
      "You have guessed it in 2 turns.\n"
     ]
    }
   ],
   "source": [
    "from getpass import getpass\n",
    "while 1:\n",
    "  colors = ['yellow', 'blue', 'red', 'green', 'white', 'black']\n",
    "  print('Here is your list of colors you may choose: YELLOW, BLUE, RED, GREEN, WHITE, BLACK')\n",
    "  codemaker = getpass('Choose your 4 colors from the list be careful with duplicates ❤️ :')\n",
    "  enigma = codemaker.split()\n",
    "    \n",
    "  if len(enigma) != 4:\n",
    "    print(\"choose 4 colors!\")\n",
    "    continue\n",
    "    \n",
    "\n",
    "  if enigma[0] in enigma[1:]:\n",
    "    print(enigma[0] + ' is already there more than once')\n",
    "    continue\n",
    "  if enigma[1] in enigma[2:-1]:\n",
    "    print(enigma[1] + ' is already there more than once')\n",
    "    continue\n",
    "  if enigma[2] in enigma[3:-2]:\n",
    "    print(enigma[2] + ' is already there more than once')\n",
    "    continue\n",
    "  if enigma[3] in enigma[:3]:\n",
    "    print(enigma[3] + ' is already there more than once')\n",
    "    continue\n",
    "\n",
    "\n",
    "  if enigma[0] not in colors:\n",
    "    print(enigma[0] + ' is not an allowed color')\n",
    "    continue\n",
    "  if enigma[1] not in colors:\n",
    "    print(enigma[1] + ' is not an allowed color')\n",
    "    continue\n",
    "  if enigma[2] not in colors:\n",
    "    print(enigma[2] + ' is not an allowed color')\n",
    "    continue\n",
    "  if enigma[3] not in colors:\n",
    "    print(enigma[3] + ' is not an allowed color')\n",
    "    continue\n",
    "\n",
    "  turn = 1\n",
    "\n",
    "  while turn <= 12:\n",
    "    codebreaker = input('Make a guess:')\n",
    "    \n",
    "\n",
    "    guess = codebreaker.split()\n",
    "    response = []\n",
    "    \n",
    "    if len(guess) != 4:\n",
    "      print('choose 4 colors!')\n",
    "      continue\n",
    "\n",
    "\n",
    "    if guess[0] not in colors:\n",
    "      print(guess[0] + ' is not an allowed color')\n",
    "      continue\n",
    "    if guess[1] not in colors:\n",
    "      print(guess[1] + ' is not an allowed color')\n",
    "      continue\n",
    "    if guess[2] not in colors:\n",
    "      print(guess[2] + ' is not an allowed color')\n",
    "      continue\n",
    "    if guess[3] not in colors:\n",
    "      print(guess[3] + ' is not an allowed color')\n",
    "      continue\n",
    "\n",
    "    if guess[0] == enigma[0]:\n",
    "      response.append('🔴')\n",
    "    elif guess[0] == enigma[1] or guess[0] == enigma[2] or guess[0] == enigma[3]:\n",
    "      response.append('⚪')\n",
    "    else:\n",
    "      response.append('✖️')\n",
    "    \n",
    "    if guess[1] == enigma[1]:\n",
    "      response.append('🔴')\n",
    "    elif guess[1] == enigma[0] or guess[1] == enigma[2] or guess[1] == enigma[3]:\n",
    "      response.append('⚪')\n",
    "    else:\n",
    "      response.append('✖️')\n",
    "\n",
    "    if guess[2] == enigma[2]:\n",
    "      response.append('🔴')\n",
    "    elif guess[2] == enigma[1] or guess[0] == enigma[2] or guess[2] == enigma[3]:\n",
    "      response.append('⚪')\n",
    "    else:\n",
    "      response.append('✖️')\n",
    "\n",
    "    if guess[3] == enigma[3]:\n",
    "      response.append('🔴')\n",
    "    elif guess[3] == enigma[1] or guess[3] == enigma[2] or guess[3] == enigma[0]:\n",
    "      response.append('⚪')\n",
    "    else:\n",
    "      response.append('✖️')\n",
    "    \n",
    "    turn += 1\n",
    "\n",
    "    if guess[0] == enigma[0] and guess[1] == enigma[1] and guess[2] == enigma[2] and guess[3] == enigma[3]:\n",
    "      print('Congratulations 🎉🎉🎉🎉🎉')\n",
    "      print(\"You have guessed it in\",turn,\"turns.\")\n",
    "      break\n",
    "    \n",
    "\n",
    "    print(' '.join(response))\n",
    "\n",
    "  break"
   ]
  },
  {
   "cell_type": "code",
   "execution_count": null,
   "metadata": {
    "colab": {
     "base_uri": "https://localhost:8080/"
    },
    "id": "CA_DOtvToZCk",
    "outputId": "ae46d650-601a-4d62-ce55-95c47686bf8f"
   },
   "outputs": [],
   "source": []
  },
  {
   "cell_type": "code",
   "execution_count": null,
   "metadata": {
    "id": "jjJSuyLJontD"
   },
   "outputs": [],
   "source": [
    "\n"
   ]
  },
  {
   "cell_type": "code",
   "execution_count": null,
   "metadata": {
    "colab": {
     "base_uri": "https://localhost:8080/"
    },
    "id": "dTnOpbARLElY",
    "outputId": "589edc43-a141-45f2-c819-3b694e532b41"
   },
   "outputs": [],
   "source": []
  },
  {
   "cell_type": "code",
   "execution_count": null,
   "metadata": {
    "colab": {
     "base_uri": "https://localhost:8080/"
    },
    "id": "y0OX6gRJLF-0",
    "outputId": "b2826b1f-199b-4060-8ce0-c98e30b1b6ba"
   },
   "outputs": [],
   "source": []
  },
  {
   "cell_type": "code",
   "execution_count": null,
   "metadata": {
    "colab": {
     "base_uri": "https://localhost:8080/"
    },
    "id": "9rHXpxeVNFbQ",
    "outputId": "6307a75a-75f1-4d74-ffd5-83e68d3d3f07"
   },
   "outputs": [],
   "source": []
  },
  {
   "cell_type": "code",
   "execution_count": null,
   "metadata": {
    "id": "eNJuKkYPLHGe"
   },
   "outputs": [],
   "source": []
  },
  {
   "cell_type": "code",
   "execution_count": null,
   "metadata": {
    "colab": {
     "base_uri": "https://localhost:8080/"
    },
    "id": "tu0A6VY-LG6e",
    "outputId": "58d10981-b4d5-4f98-dc0d-2686b8d374e9"
   },
   "outputs": [],
   "source": []
  },
  {
   "cell_type": "code",
   "execution_count": null,
   "metadata": {
    "id": "aGKQBQqILGst"
   },
   "outputs": [],
   "source": []
  },
  {
   "cell_type": "code",
   "execution_count": null,
   "metadata": {
    "id": "lP_S3HlcLGXz"
   },
   "outputs": [],
   "source": []
  }
 ],
 "metadata": {
  "colab": {
   "provenance": []
  },
  "kernelspec": {
   "display_name": "Python 3 (ipykernel)",
   "language": "python",
   "name": "python3"
  },
  "language_info": {
   "codemirror_mode": {
    "name": "ipython",
    "version": 3
   },
   "file_extension": ".py",
   "mimetype": "text/x-python",
   "name": "python",
   "nbconvert_exporter": "python",
   "pygments_lexer": "ipython3",
   "version": "3.9.13"
  }
 },
 "nbformat": 4,
 "nbformat_minor": 1
}
