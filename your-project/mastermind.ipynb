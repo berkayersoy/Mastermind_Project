{
 "cells": [
  {
   "cell_type": "code",
   "execution_count": 1,
   "metadata": {
    "id": "i0RWh2mvoXFN"
   },
   "outputs": [
    {
     "name": "stdout",
     "output_type": "stream",
     "text": [
      "Here is your list of colors you may choose from: YELLOW, BLUE, RED, GREEN, WHITE, BLACK\n",
      "You have to input 4 colors divided by a space and no duplicates!\n",
      "['yellow', 'blue', 'red', 'white'] 🔴 🔴 🔴 ✖️\n",
      "burgundy is not an allowed color\n",
      "You have to input 4 colors divided by a space and no duplicates!\n",
      "Congratulations 🎉🎉🎉🎉🎉\n",
      "You have guessed it in 2 turns.\n"
     ]
    }
   ],
   "source": [
    "from getpass import getpass\n",
    "colors = ['yellow', 'blue', 'red', 'green', 'white', 'black']\n",
    "\n",
    "\n",
    "\n",
    "\n",
    "while True:\n",
    "  print('Here is your list of colors you may choose from: YELLOW, BLUE, RED, GREEN, WHITE, BLACK')\n",
    "  codemaker = getpass('Codemaker, type 4 colors from the list with a space between each one, be careful with duplicates ❤️ :')\n",
    "  enigma = codemaker.lower().split()\n",
    "  invalid_color=False\n",
    "\n",
    "  #If statement checks for duplicates and if length is 4.\n",
    "  if len(enigma)!=len(set(enigma)) or len(enigma)!=4:\n",
    "    print(\"You have to input 4 colors divided by a space and no duplicates!\")\n",
    "    continue\n",
    "\n",
    "  #For loop and if statement below checks if the codebreaker inputs are all valid colors.\n",
    "  for i in range(4):\n",
    "      if enigma[i] not in colors:\n",
    "        print(enigma[i] + ' is not an allowed color')\n",
    "        invalid_color=True\n",
    "        break\n",
    "  \n",
    "  if invalid_color==True:\n",
    "    continue\n",
    "\n",
    "\n",
    "\n",
    "\n",
    "\n",
    "  #We use this turn variable to count turns and as a counter to break the while loop.\n",
    "  turn = 1\n",
    "  while turn <= 12:\n",
    "    codebreaker = input('Codebreaker, make a guess:')\n",
    "    guess = codebreaker.lower().split()\n",
    "    response = []\n",
    "    invalid_color=False\n",
    "\n",
    "    #If statement checks for duplicates and if length is 4.\n",
    "    if len(guess)!=len(set(guess)) or len(guess)!=4:\n",
    "      print(\"You have to input 4 colors divided by a space and no duplicates!\")\n",
    "      continue\n",
    "\n",
    "    #For loop and if statement below checks if the codebreaker inputs are all valid colors.\n",
    "    for i in range(4):\n",
    "      if guess[i] not in colors:\n",
    "        print(guess[i] + ' is not an allowed color')\n",
    "        invalid_color=True\n",
    "        break\n",
    "\n",
    "    if invalid_color==True:\n",
    "      continue\n",
    "\n",
    "    #We compare the guess to enigma to provide feedback.\n",
    "    for i in range(4):\n",
    "      if guess[i] == enigma[i]:\n",
    "        response.append('🔴')\n",
    "      elif guess[i] in enigma:\n",
    "        response.append('⚪')\n",
    "      else:\n",
    "        response.append('✖️')\n",
    "\n",
    "\n",
    "    #We increment turn by 1 every loop to count the turns.\n",
    "    turn += 1\n",
    "\n",
    "    #Checking if guess is matching the enigma.\n",
    "    if guess==enigma:\n",
    "      print('Congratulations 🎉🎉🎉🎉🎉')\n",
    "      print(\"You have guessed it in\",turn-1,\"turns.\")\n",
    "      break\n",
    "    \n",
    "    #Printing the hint for the user.\n",
    "    print(guess,' '.join(response))\n",
    "\n",
    "  if turn == 13:\n",
    "    print(\"You couldn't find it in 12 turns. What a pity! Codebreaker you lost!!!\")\n",
    "\n",
    "  break"
   ]
  },
  {
   "cell_type": "code",
   "execution_count": null,
   "metadata": {
    "colab": {
     "base_uri": "https://localhost:8080/"
    },
    "id": "CA_DOtvToZCk",
    "outputId": "ae46d650-601a-4d62-ce55-95c47686bf8f"
   },
   "outputs": [],
   "source": []
  },
  {
   "cell_type": "code",
   "execution_count": null,
   "metadata": {
    "id": "jjJSuyLJontD"
   },
   "outputs": [],
   "source": [
    "\n"
   ]
  },
  {
   "cell_type": "code",
   "execution_count": null,
   "metadata": {
    "colab": {
     "base_uri": "https://localhost:8080/"
    },
    "id": "dTnOpbARLElY",
    "outputId": "589edc43-a141-45f2-c819-3b694e532b41"
   },
   "outputs": [],
   "source": []
  },
  {
   "cell_type": "code",
   "execution_count": null,
   "metadata": {
    "colab": {
     "base_uri": "https://localhost:8080/"
    },
    "id": "y0OX6gRJLF-0",
    "outputId": "b2826b1f-199b-4060-8ce0-c98e30b1b6ba"
   },
   "outputs": [],
   "source": []
  },
  {
   "cell_type": "code",
   "execution_count": null,
   "metadata": {
    "colab": {
     "base_uri": "https://localhost:8080/"
    },
    "id": "9rHXpxeVNFbQ",
    "outputId": "6307a75a-75f1-4d74-ffd5-83e68d3d3f07"
   },
   "outputs": [],
   "source": []
  },
  {
   "cell_type": "code",
   "execution_count": null,
   "metadata": {
    "id": "eNJuKkYPLHGe"
   },
   "outputs": [],
   "source": []
  },
  {
   "cell_type": "code",
   "execution_count": null,
   "metadata": {
    "colab": {
     "base_uri": "https://localhost:8080/"
    },
    "id": "tu0A6VY-LG6e",
    "outputId": "58d10981-b4d5-4f98-dc0d-2686b8d374e9"
   },
   "outputs": [],
   "source": []
  },
  {
   "cell_type": "code",
   "execution_count": null,
   "metadata": {
    "id": "aGKQBQqILGst"
   },
   "outputs": [],
   "source": []
  },
  {
   "cell_type": "code",
   "execution_count": null,
   "metadata": {
    "id": "lP_S3HlcLGXz"
   },
   "outputs": [],
   "source": []
  }
 ],
 "metadata": {
  "colab": {
   "provenance": []
  },
  "kernelspec": {
   "display_name": "base",
   "language": "python",
   "name": "python3"
  },
  "language_info": {
   "codemirror_mode": {
    "name": "ipython",
    "version": 3
   },
   "file_extension": ".py",
   "mimetype": "text/x-python",
   "name": "python",
   "nbconvert_exporter": "python",
   "pygments_lexer": "ipython3",
   "version": "3.9.13"
  },
  "vscode": {
   "interpreter": {
    "hash": "939426be350ea136d7702cb38d9d1c611a2da7982b737f0b7151fc28273a1a91"
   }
  }
 },
 "nbformat": 4,
 "nbformat_minor": 1
}
